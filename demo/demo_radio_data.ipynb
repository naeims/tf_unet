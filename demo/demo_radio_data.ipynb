{
 "cells": [
  {
   "cell_type": "markdown",
   "metadata": {},
   "source": [
    "#  Radio Frequency Interference mitigation using deep convolutional neural networks\n",
    "\n",
    "### This example demonstrates how tf_unet is trained on the 'Bleien Galactic Survey data'. \n",
    "\n",
    "To create the training data the SEEK package (https://github.com/cosmo-ethz/seek) has to be installed"
   ]
  },
  {
   "cell_type": "code",
   "execution_count": null,
   "metadata": {},
   "outputs": [],
   "source": [
    "from __future__ import division, print_function\n",
    "%matplotlib inline\n",
    "import matplotlib.pyplot as plt\n",
    "import matplotlib\n",
    "import numpy as np\n",
    "import glob\n",
    "plt.rcParams['image.cmap'] = 'gist_earth'"
   ]
  },
  {
   "cell_type": "markdown",
   "metadata": {},
   "source": [
    "## preparing training data\n",
    "only one day..."
   ]
  },
  {
   "cell_type": "code",
   "execution_count": null,
   "metadata": {},
   "outputs": [],
   "source": [
    "!wget -q -r -nH -np --cut-dirs=2 https://people.phys.ethz.ch/~ipa/cosmo/bgs_example_data/"
   ]
  },
  {
   "cell_type": "code",
   "execution_count": null,
   "metadata": {},
   "outputs": [],
   "source": [
    "!mkdir -p bgs_example_data/seek_cache"
   ]
  },
  {
   "cell_type": "code",
   "execution_count": null,
   "metadata": {},
   "outputs": [],
   "source": [
    "!seek --file-prefix='./bgs_example_data' --post-processing-prefix='bgs_example_data/seek_cache' --chi-1=20 --overwrite=True seek.config.process_survey_fft"
   ]
  },
  {
   "cell_type": "markdown",
   "metadata": {
    "collapsed": true
   },
   "source": [
    "## setting up the unet"
   ]
  },
  {
   "cell_type": "code",
   "execution_count": null,
   "metadata": {},
   "outputs": [],
   "source": [
    "from scripts.radio_util import DataProvider\n",
    "from tf_unet import unet\n"
   ]
  },
  {
   "cell_type": "code",
   "execution_count": null,
   "metadata": {},
   "outputs": [],
   "source": [
    "files = glob.glob('bgs_example_data/seek_cache/*')"
   ]
  },
  {
   "cell_type": "code",
   "execution_count": null,
   "metadata": {},
   "outputs": [],
   "source": [
    "data_provider = DataProvider(600, files)\n",
    "\n",
    "net = unet.Unet(channels=data_provider.channels, \n",
    "                n_class=data_provider.n_class, \n",
    "                layers=3, \n",
    "                features_root=64,\n",
    "                cost_kwargs=dict(regularizer=0.001),\n",
    "                )\n"
   ]
  },
  {
   "cell_type": "markdown",
   "metadata": {},
   "source": [
    "## training the network\n",
    "only one epoch. For good results many more are neccessary"
   ]
  },
  {
   "cell_type": "code",
   "execution_count": null,
   "metadata": {},
   "outputs": [],
   "source": [
    "\n",
    "trainer = unet.Trainer(net, optimizer=\"momentum\", opt_kwargs=dict(momentum=0.2))\n",
    "path = trainer.train(data_provider, \"./unet_trained_bgs_example_data\", \n",
    "                     training_iters=32, \n",
    "                     epochs=1, \n",
    "                     dropout=0.5, \n",
    "                     display_step=2)\n",
    "\n"
   ]
  },
  {
   "cell_type": "markdown",
   "metadata": {},
   "source": [
    "## running the prediction on the trained unet"
   ]
  },
  {
   "cell_type": "code",
   "execution_count": null,
   "metadata": {},
   "outputs": [],
   "source": [
    "data_provider = DataProvider(10000, files)\n",
    "x_test, y_test = data_provider(1)\n",
    "prediction = net.predict(path, x_test)"
   ]
  },
  {
   "cell_type": "code",
   "execution_count": null,
   "metadata": {},
   "outputs": [],
   "source": [
    "fig, ax = plt.subplots(1,3, figsize=(12,4))\n",
    "ax[0].imshow(x_test[0,...,0], aspect=\"auto\")\n",
    "ax[1].imshow(y_test[0,...,1], aspect=\"auto\")\n",
    "ax[2].imshow(prediction[0,...,1], aspect=\"auto\")"
   ]
  },
  {
   "cell_type": "code",
   "execution_count": null,
   "metadata": {},
   "outputs": [],
   "source": []
  }
 ],
 "metadata": {
  "kernelspec": {
   "display_name": "venv_tfunet",
   "language": "python",
   "name": "venv_tfunet"
  },
  "language_info": {
   "codemirror_mode": {
    "name": "ipython",
    "version": 3
   },
   "file_extension": ".py",
   "mimetype": "text/x-python",
   "name": "python",
   "nbconvert_exporter": "python",
   "pygments_lexer": "ipython3",
   "version": "3.7.3"
  }
 },
 "nbformat": 4,
 "nbformat_minor": 1
}
