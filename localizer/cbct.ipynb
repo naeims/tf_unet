{
 "cells": [
  {
   "cell_type": "code",
   "execution_count": 1,
   "metadata": {},
   "outputs": [],
   "source": [
    "from __future__ import division, print_function\n",
    "%matplotlib inline\n",
    "import matplotlib.pyplot as plt\n",
    "import matplotlib\n",
    "import numpy as np\n",
    "import imgaug as ia\n",
    "import operator\n",
    "import functools\n",
    "import random\n",
    "from PIL import Image\n",
    "from imgaug import augmenters as iaa\n",
    "plt.rcParams['image.cmap'] = 'gray'\n",
    "np.random.seed(98765)\n"
   ]
  },
  {
   "cell_type": "code",
   "execution_count": 2,
   "metadata": {},
   "outputs": [],
   "source": [
    "from tf_unet import image_gen\n",
    "from tf_unet import unet\n",
    "from tf_unet import util\n",
    "from tf_unet.image_util import ImageDataProvider"
   ]
  },
  {
   "cell_type": "code",
   "execution_count": 3,
   "metadata": {},
   "outputs": [],
   "source": [
    "EPOCHS = 100\n",
    "PATCH_SIZE = 128\n",
    "MARGIN = 30\n",
    "DISCREET_MASK = True"
   ]
  },
  {
   "cell_type": "code",
   "execution_count": 4,
   "metadata": {},
   "outputs": [],
   "source": [
    "def randomCrop(img, mask, width, height):\n",
    "    assert img.shape[0] >= width\n",
    "    assert img.shape[1] >= height\n",
    "    assert img.shape[0] == mask.shape[0]\n",
    "    assert img.shape[1] == mask.shape[1]\n",
    "    x = random.randint(0, img.shape[0] - width)\n",
    "    y = random.randint(0, img.shape[1] - height)\n",
    "    img = img[x:x+width, y:y+height]\n",
    "    mask = mask[x:x+width, y:y+height]\n",
    "    return img, mask, x, y"
   ]
  },
  {
   "cell_type": "code",
   "execution_count": 5,
   "metadata": {},
   "outputs": [],
   "source": [
    "# def randomPatch(img, mask, width, height):\n",
    "#     img_cropped, mask_cropped, x_offset, y_offset = randomCrop(img, mask, width, height)\n",
    "    \n",
    "#     fliplr_random = np.random.random() > 0.5\n",
    "#     flipud_random = np.random.random() > 0.5\n",
    "    \n",
    "#     if fliplr_random:\n",
    "#         img_cropped = np.fliplr(img_cropped)\n",
    "#         mask_cropped = np.fliplr(mask_cropped)\n",
    "        \n",
    "#     if flipud_random:\n",
    "#         img_cropped = np.flipud(img_cropped)\n",
    "#         mask_cropped = np.flipud(mask_cropped)\n",
    "        \n",
    "#     return img_cropped, mask_cropped, x_offset, y_offset, fliplr_random, flipud_random\n",
    "    \n",
    "    "
   ]
  },
  {
   "cell_type": "code",
   "execution_count": 6,
   "metadata": {},
   "outputs": [],
   "source": [
    "# Define augmentation\n",
    "def do_augment_data(data, labels, flip_ud=True):\n",
    "    image = data\n",
    "    mask = labels\n",
    "    \n",
    "    flip_ud_prob = 0\n",
    "    if (flip_ud == True):\n",
    "        flip_ud_prob = 0.5\n",
    "    \n",
    "    # more aggressive augmentation:\n",
    "    seq = iaa.Sequential([\n",
    "        iaa.Fliplr(0.5),\n",
    "        iaa.Flipud(flip_ud_prob),\n",
    "        iaa.Crop(percent=(0, 0.05)),\n",
    "        iaa.Affine(\n",
    "            scale={\"x\": (0.90, 1.10), \"y\": (0.90, 1.10)},\n",
    "            translate_percent={\"x\": (-0.01, 0.01), \"y\": (-0.01, 0.01)},\n",
    "            rotate=(-45, 45),\n",
    "            shear=(-5, 5)\n",
    "        )\n",
    "    ], random_order = True)\n",
    "\n",
    "    seq_det = seq.to_deterministic()\n",
    "\n",
    "    image_aug = seq_det.augment_image(image)\n",
    "    mask_aug = seq_det.augment_image(mask)\n",
    "\n",
    "    if (DISCREET_MASK == True):\n",
    "        # augmentation makes some of these values not discreet, fix them here.\n",
    "        mask_aug[mask_aug > 0.5] = 1\n",
    "        mask_aug[mask_aug <= 0.5] = 0\n",
    "            \n",
    "    return image_aug, mask_aug"
   ]
  },
  {
   "cell_type": "code",
   "execution_count": 7,
   "metadata": {},
   "outputs": [],
   "source": [
    "# Create a generator that uses the Image data provider\n",
    "\n",
    "\n",
    "class GrayImageDataProvider(ImageDataProvider):\n",
    "    def __init__(self, search_path, a_min=None, a_max=None, data_suffix=\".png\", mask_suffix='_mask.png', shuffle_data=True, augment_data=False, flip_ud=True):\n",
    "        self.augment_data = augment_data\n",
    "        self.flip_ud = flip_ud\n",
    "        super(GrayImageDataProvider, self).__init__(search_path, a_min, a_max, data_suffix, mask_suffix, shuffle_data)\n",
    "\n",
    "    def _load_file(self, path, dtype=np.float32):\n",
    "        #im = equalize(Image.open(path).convert('L'))\n",
    "        im = Image.open(path).convert('L')\n",
    "        return np.array(im, dtype)\n",
    "    \n",
    "    def _post_process(self, data, labels):\n",
    "        if (self.augment_data):\n",
    "            data_aug, labels_aug = do_augment_data(data, labels, self.flip_ud)\n",
    "        else:\n",
    "            data_aug, labels_aug = data, labels\n",
    "        return data_aug, labels_aug;"
   ]
  },
  {
   "cell_type": "code",
   "execution_count": 8,
   "metadata": {},
   "outputs": [],
   "source": [
    "class CropDataProvider(GrayImageDataProvider):\n",
    "    def __init__(self, search_path, augment_data=False, size=PATCH_SIZE, only_positive=False, crop_first=True):\n",
    "        self.size = size\n",
    "        self.only_positive = only_positive\n",
    "        self.crop_first = crop_first\n",
    "        super(CropDataProvider, self).__init__(search_path, augment_data=augment_data, flip_ud=only_positive)\n",
    "    \n",
    "    def _post_process(self, data, labels):\n",
    "        if (self.crop_first == True):\n",
    "            while(True):\n",
    "                cropped_data, cropped_labels, x_offset, y_offset = randomCrop(data, labels, self.size, self.size)\n",
    "\n",
    "                # ignore crops with CACs in the margins\n",
    "                if ([0,1] in cropped_labels[0:MARGIN, 0:self.size] or\n",
    "                    [0,1] in cropped_labels[0:self.size, 0:MARGIN] or\n",
    "                    [0,1] in cropped_labels[-MARGIN:self.size, 0:self.size] or\n",
    "                    [0,1] in cropped_labels[0:self.size, -MARGIN:self.size]):\n",
    "                    continue\n",
    "\n",
    "                if(self.only_positive == True):\n",
    "                    if (not [0,1] in cropped_labels[MARGIN:-MARGIN, MARGIN:-MARGIN]):\n",
    "                        continue\n",
    "\n",
    "                return super(CropDataProvider, self)._post_process(cropped_data, cropped_labels)\n",
    "        else:\n",
    "            while(True):\n",
    "                data_aug, labels_aug = super(CropDataProvider, self)._post_process(data, labels)\n",
    "                cropped_data, cropped_labels, x_offset, y_offset = randomCrop(data_aug, labels_aug, self.size, self.size)\n",
    "\n",
    "                # ignore crops with CACs in the margins\n",
    "                if ([0,1] in cropped_labels[0:MARGIN, 0:self.size] or\n",
    "                    [0,1] in cropped_labels[0:self.size, 0:MARGIN] or\n",
    "                    [0,1] in cropped_labels[-MARGIN:self.size, 0:self.size] or\n",
    "                    [0,1] in cropped_labels[0:self.size, -MARGIN:self.size]):\n",
    "                    continue                \n",
    "                \n",
    "                if(self.only_positive == True):\n",
    "                    if ([0,1] not in cropped_labels[MARGIN:-MARGIN, MARGIN:-MARGIN]):\n",
    "                        continue\n",
    "                return cropped_data, cropped_labels\n",
    "    \n",
    "    def _next_data(self):\n",
    "        while(True):\n",
    "            img, label = super(CropDataProvider, self)._next_data()\n",
    "            if(self.only_positive == True and np.amax(label) == False):\n",
    "                continue\n",
    "            return img, label\n",
    "                \n",
    "    "
   ]
  },
  {
   "cell_type": "code",
   "execution_count": 9,
   "metadata": {
    "scrolled": false
   },
   "outputs": [
    {
     "name": "stdout",
     "output_type": "stream",
     "text": [
      "Number of files used: 1\n",
      "Number of channels: 1\n",
      "Number of classes: 2\n"
     ]
    }
   ],
   "source": [
    "#generator = GrayImageDataProvider(\"data/training/*.png\", augment_data=True)\n",
    "generator = CropDataProvider(\"data/_old_training/training_poster/*.png\", augment_data=True, size=PATCH_SIZE, only_positive=True, crop_first=False)\n",
    "#generator = CropDataProvider(\"data/training/*.png\", augment_data=True, size=PATCH_SIZE)"
   ]
  },
  {
   "cell_type": "code",
   "execution_count": 10,
   "metadata": {
    "scrolled": false
   },
   "outputs": [
    {
     "data": {
      "text/plain": [
       "<matplotlib.image.AxesImage at 0x140962810>"
      ]
     },
     "execution_count": 10,
     "metadata": {},
     "output_type": "execute_result"
    },
    {
     "data": {
      "image/png": "[encoded data removed]",
      "text/plain": [
       "<Figure size 288x648 with 2 Axes>"
      ]
     },
     "metadata": {},
     "output_type": "display_data"
    }
   ],
   "source": [
    "# visualize one of the files\n",
    "\n",
    "x_test, y_test = generator(1)\n",
    "\n",
    "fig, ax = plt.subplots(2,1, sharey=True, figsize=(4,9))\n",
    "ax[0].axis('off')\n",
    "ax[1].axis('off')\n",
    "ax[0].imshow(x_test[0,...,0], aspect=\"auto\")\n",
    "ax[1].imshow(y_test[0,...,1], aspect=\"auto\")"
   ]
  },
  {
   "cell_type": "code",
   "execution_count": 11,
   "metadata": {},
   "outputs": [],
   "source": [
    "# visualize the augmentation\n",
    "\n",
    "# x_test, y_test = generator(1)\n",
    "\n",
    "# image = x_test[0,...,0]\n",
    "# mask = y_test[0,...,1]\n",
    "\n",
    "# image_aug, mask_aug = do_augment_data(image, mask)\n",
    "\n",
    "# fig, ax = plt.subplots(2,2, sharey=True, figsize=(8,8))\n",
    "# ax[0, 0].imshow(image, aspect=\"auto\")\n",
    "# ax[1, 0].imshow(image_aug, aspect=\"auto\")\n",
    "# ax[0, 1].imshow(mask, aspect=\"auto\")\n",
    "# ax[1, 1].imshow(mask_aug, aspect=\"auto\")\n",
    "\n"
   ]
  },
  {
   "cell_type": "code",
   "execution_count": 12,
   "metadata": {},
   "outputs": [
    {
     "name": "stderr",
     "output_type": "stream",
     "text": [
      "2019-08-13 00:38:10,547 Layers 3, features 32, filter size 3x3, pool size: 2x2\n"
     ]
    },
    {
     "name": "stdout",
     "output_type": "stream",
     "text": [
      "Number of files used: 111\n",
      "Number of channels: 1\n",
      "Number of classes: 2\n",
      "WARNING:tensorflow:From /Users/nsemsarilar/code/dl/venv2/lib/python3.7/site-packages/tensorflow/python/framework/op_def_library.py:263: colocate_with (from tensorflow.python.framework.ops) is deprecated and will be removed in a future version.\n",
      "Instructions for updating:\n",
      "Colocations handled automatically by placer.\n"
     ]
    },
    {
     "name": "stderr",
     "output_type": "stream",
     "text": [
      "2019-08-13 00:38:10,566 From /Users/nsemsarilar/code/dl/venv2/lib/python3.7/site-packages/tensorflow/python/framework/op_def_library.py:263: colocate_with (from tensorflow.python.framework.ops) is deprecated and will be removed in a future version.\n",
      "Instructions for updating:\n",
      "Colocations handled automatically by placer.\n"
     ]
    },
    {
     "name": "stdout",
     "output_type": "stream",
     "text": [
      "WARNING:tensorflow:From /Users/nsemsarilar/code/dl/tf_unet/tf_unet/layers.py:39: calling dropout (from tensorflow.python.ops.nn_ops) with keep_prob is deprecated and will be removed in a future version.\n",
      "Instructions for updating:\n",
      "Please use `rate` instead of `keep_prob`. Rate should be set to `rate = 1 - keep_prob`.\n"
     ]
    },
    {
     "name": "stderr",
     "output_type": "stream",
     "text": [
      "2019-08-13 00:38:10,585 From /Users/nsemsarilar/code/dl/tf_unet/tf_unet/layers.py:39: calling dropout (from tensorflow.python.ops.nn_ops) with keep_prob is deprecated and will be removed in a future version.\n",
      "Instructions for updating:\n",
      "Please use `rate` instead of `keep_prob`. Rate should be set to `rate = 1 - keep_prob`.\n"
     ]
    }
   ],
   "source": [
    "# The network\n",
    "\n",
    "generator = CropDataProvider(\"../_data/localizer_training/positive/*.png\", augment_data=True, size=PATCH_SIZE, only_positive=True, crop_first=False)\n",
    "net = unet.Unet(channels=generator.channels, n_class=generator.n_class, layers=3, features_root=32)\n",
    "#net = unet.Unet(channels=generator.channels, n_class=generator.n_class, layers=3, features_root=32, cost_kwargs=dict(regularizer=0.001, class_weights=[1., 200.]))"
   ]
  },
  {
   "cell_type": "code",
   "execution_count": null,
   "metadata": {},
   "outputs": [
    {
     "name": "stderr",
     "output_type": "stream",
     "text": [
      "2019-08-13 00:38:21,575 Removing '/Users/nsemsarilar/code/dl/tf_unet/localizer/prediction'\n",
      "2019-08-13 00:38:21,583 Removing '/Users/nsemsarilar/code/dl/tf_unet/localizer/unet_trained'\n",
      "2019-08-13 00:38:21,585 Allocating '/Users/nsemsarilar/code/dl/tf_unet/localizer/prediction'\n",
      "2019-08-13 00:38:21,586 Allocating '/Users/nsemsarilar/code/dl/tf_unet/localizer/unet_trained'\n",
      "2019-08-13 00:38:26,544 Verification error= 99.2%, loss= 0.7201\n",
      "2019-08-13 00:38:26,904 Start optimization\n",
      "2019-08-13 00:38:27,980 Iter 0, Minibatch Loss= 0.6293, Training Accuracy= 0.9947, Minibatch error= 0.5%\n",
      "2019-08-13 00:38:41,873 Iter 16, Minibatch Loss= 0.1171, Training Accuracy= 0.9916, Minibatch error= 0.8%\n",
      "2019-08-13 00:39:03,646 Epoch 0, Average loss: 0.1491, learning rate: 0.0010\n",
      "2019-08-13 00:39:04,095 Verification error= 0.8%, loss= 0.0888\n",
      "2019-08-13 00:39:09,578 Iter 32, Minibatch Loss= 0.0831, Training Accuracy= 0.9947, Minibatch error= 0.5%\n",
      "2019-08-13 00:39:27,439 Iter 48, Minibatch Loss= 0.0754, Training Accuracy= 0.9880, Minibatch error= 1.2%\n",
      "2019-08-13 00:39:42,969 Epoch 1, Average loss: 0.0597, learning rate: 0.0010\n",
      "2019-08-13 00:39:43,419 Verification error= 0.8%, loss= 0.0502\n",
      "2019-08-13 00:39:46,572 Iter 64, Minibatch Loss= 0.0662, Training Accuracy= 0.9870, Minibatch error= 1.3%\n",
      "2019-08-13 00:39:59,832 Iter 80, Minibatch Loss= 0.0570, Training Accuracy= 0.9898, Minibatch error= 1.0%\n",
      "2019-08-13 00:40:17,749 Epoch 2, Average loss: 0.0453, learning rate: 0.0010\n",
      "2019-08-13 00:40:18,207 Verification error= 0.8%, loss= 0.0503\n",
      "2019-08-13 00:40:19,301 Iter 96, Minibatch Loss= 0.0483, Training Accuracy= 0.9943, Minibatch error= 0.6%\n",
      "2019-08-13 00:40:32,288 Iter 112, Minibatch Loss= 0.0407, Training Accuracy= 0.9954, Minibatch error= 0.5%\n",
      "2019-08-13 00:40:50,919 Epoch 3, Average loss: 0.0420, learning rate: 0.0010\n",
      "2019-08-13 00:40:51,385 Verification error= 0.8%, loss= 0.0318\n",
      "2019-08-13 00:40:52,907 Iter 128, Minibatch Loss= 0.0347, Training Accuracy= 0.9915, Minibatch error= 0.9%\n",
      "2019-08-13 00:41:15,582 Iter 144, Minibatch Loss= 0.0284, Training Accuracy= 0.9934, Minibatch error= 0.7%\n",
      "2019-08-13 00:41:32,977 Epoch 4, Average loss: 0.0373, learning rate: 0.0010\n",
      "2019-08-13 00:41:33,417 Verification error= 0.8%, loss= 0.0242\n",
      "2019-08-13 00:41:35,217 Iter 160, Minibatch Loss= 0.0570, Training Accuracy= 0.9765, Minibatch error= 2.4%\n",
      "2019-08-13 00:41:49,830 Iter 176, Minibatch Loss= 0.0152, Training Accuracy= 0.9933, Minibatch error= 0.7%\n",
      "2019-08-13 00:42:01,191 Epoch 5, Average loss: 0.0309, learning rate: 0.0010\n",
      "2019-08-13 00:42:01,600 Verification error= 0.8%, loss= 0.0193\n",
      "2019-08-13 00:42:02,335 Iter 192, Minibatch Loss= 0.0102, Training Accuracy= 0.9959, Minibatch error= 0.4%\n",
      "2019-08-13 00:42:16,014 Iter 208, Minibatch Loss= 0.0129, Training Accuracy= 0.9946, Minibatch error= 0.5%\n",
      "2019-08-13 00:42:31,051 Epoch 6, Average loss: 0.0295, learning rate: 0.0010\n",
      "2019-08-13 00:42:31,429 Verification error= 0.8%, loss= 0.0279\n",
      "2019-08-13 00:42:34,353 Iter 224, Minibatch Loss= 0.0088, Training Accuracy= 0.9952, Minibatch error= 0.5%\n",
      "2019-08-13 00:43:02,065 Iter 240, Minibatch Loss= 0.0148, Training Accuracy= 0.9904, Minibatch error= 1.0%\n",
      "2019-08-13 00:43:33,054 Epoch 7, Average loss: 0.0285, learning rate: 0.0010\n",
      "2019-08-13 00:43:33,604 Verification error= 0.8%, loss= 0.0164\n",
      "2019-08-13 00:43:36,968 Iter 256, Minibatch Loss= 0.0188, Training Accuracy= 0.9911, Minibatch error= 0.9%\n",
      "2019-08-13 00:43:55,024 Iter 272, Minibatch Loss= 0.0296, Training Accuracy= 0.9946, Minibatch error= 0.5%\n",
      "2019-08-13 00:44:22,449 Epoch 8, Average loss: 0.0254, learning rate: 0.0010\n",
      "2019-08-13 00:44:22,934 Verification error= 0.8%, loss= 0.0190\n",
      "2019-08-13 00:44:24,077 Iter 288, Minibatch Loss= 0.0152, Training Accuracy= 0.9961, Minibatch error= 0.4%\n",
      "2019-08-13 00:44:41,747 Iter 304, Minibatch Loss= 0.0193, Training Accuracy= 0.9844, Minibatch error= 1.6%\n",
      "2019-08-13 00:45:06,044 Epoch 9, Average loss: 0.0171, learning rate: 0.0010\n",
      "2019-08-13 00:45:06,482 Verification error= 0.8%, loss= 0.0134\n",
      "2019-08-13 00:45:08,690 Iter 320, Minibatch Loss= 0.0088, Training Accuracy= 0.9932, Minibatch error= 0.7%\n",
      "2019-08-13 00:45:22,522 Iter 336, Minibatch Loss= 0.0158, Training Accuracy= 0.9946, Minibatch error= 0.5%\n",
      "2019-08-13 00:45:41,337 Epoch 10, Average loss: 0.0171, learning rate: 0.0010\n",
      "2019-08-13 00:45:41,777 Verification error= 0.8%, loss= 0.0125\n",
      "2019-08-13 00:45:42,624 Iter 352, Minibatch Loss= 0.0293, Training Accuracy= 0.9944, Minibatch error= 0.6%\n",
      "2019-08-13 00:46:07,824 Iter 368, Minibatch Loss= 0.0195, Training Accuracy= 0.9868, Minibatch error= 1.3%\n",
      "2019-08-13 00:46:23,831 Epoch 11, Average loss: 0.0189, learning rate: 0.0010\n",
      "2019-08-13 00:46:24,290 Verification error= 0.8%, loss= 0.0162\n",
      "2019-08-13 00:46:25,642 Iter 384, Minibatch Loss= 0.0330, Training Accuracy= 0.9884, Minibatch error= 1.2%\n",
      "2019-08-13 00:46:52,710 Iter 400, Minibatch Loss= 0.0411, Training Accuracy= 0.9854, Minibatch error= 1.5%\n",
      "2019-08-13 00:47:12,711 Epoch 12, Average loss: 0.0269, learning rate: 0.0010\n",
      "2019-08-13 00:47:13,144 Verification error= 0.6%, loss= 0.0167\n",
      "2019-08-13 00:47:16,039 Iter 416, Minibatch Loss= 0.0165, Training Accuracy= 0.9912, Minibatch error= 0.9%\n",
      "2019-08-13 00:47:34,729 Iter 432, Minibatch Loss= 0.0072, Training Accuracy= 0.9964, Minibatch error= 0.4%\n",
      "2019-08-13 00:47:50,890 Epoch 13, Average loss: 0.0204, learning rate: 0.0010\n",
      "2019-08-13 00:47:51,341 Verification error= 0.6%, loss= 0.0259\n",
      "2019-08-13 00:47:53,880 Iter 448, Minibatch Loss= 0.0230, Training Accuracy= 0.9943, Minibatch error= 0.6%\n",
      "2019-08-13 00:48:18,227 Iter 464, Minibatch Loss= 0.0751, Training Accuracy= 0.9815, Minibatch error= 1.8%\n",
      "2019-08-13 00:48:30,101 Epoch 14, Average loss: 0.0200, learning rate: 0.0010\n",
      "2019-08-13 00:48:30,554 Verification error= 0.6%, loss= 0.0214\n",
      "2019-08-13 00:48:31,785 Iter 480, Minibatch Loss= 0.0363, Training Accuracy= 0.9809, Minibatch error= 1.9%\n",
      "2019-08-13 00:48:51,281 Iter 496, Minibatch Loss= 0.0324, Training Accuracy= 0.9867, Minibatch error= 1.3%\n"
     ]
    }
   ],
   "source": [
    "# Train the model\n",
    "\n",
    "#trainer = unet.Trainer(net, optimizer=\"momentum\", batch_size=1, opt_kwargs=dict(momentum=0.2))\n",
    "trainer = unet.Trainer(net, optimizer=\"adam\", verification_batch_size = 4)\n",
    "path = trainer.train(generator, \"./unet_trained\", training_iters=32, epochs=EPOCHS, display_step=16)\n",
    "\n"
   ]
  },
  {
   "cell_type": "code",
   "execution_count": null,
   "metadata": {},
   "outputs": [],
   "source": [
    "# Continued training (restore, use both negative and positive values)\n",
    "\n",
    "negGenerator = CropDataProvider(\"../_data/localizer_training/all/*.png\", augment_data=True, size=PATCH_SIZE, only_positive=False, crop_first=False)\n",
    "net = unet.Unet(channels=negGenerator.channels, n_class=negGenerator.n_class, layers=3, features_root=32)\n",
    "trainer = unet.Trainer(net, optimizer=\"adam\", verification_batch_size = 4)\n",
    "path = trainer.train(negGenerator, \"./unet_trained\", restore=True, training_iters=32, epochs=EPOCHS, display_step=16)\n",
    "\n"
   ]
  },
  {
   "cell_type": "code",
   "execution_count": null,
   "metadata": {},
   "outputs": [],
   "source": [
    "# Test the model\n",
    "\n",
    "testGenerator = GrayImageDataProvider(\"data/10_169.png\", data_suffix=\".png\", mask_suffix=\".png\", augment_data=False)\n",
    "#testGenerator = CropDataProvider(\"data/test/*.png\", augment_data=False, size=PATCH_SIZE, only_positive=False)\n",
    "x_test, y_test = testGenerator(1)\n",
    "testNet = unet.Unet(channels=testGenerator.channels, n_class=testGenerator.n_class, layers=3, features_root=32)\n",
    "prediction = testNet.predict(\"./unet_trained/model.ckpt\", x_test)\n",
    "mask = prediction[0,...,1] > 0.1\n",
    "#mask = prediction[0,...,1]\n",
    "mask = np.pad(mask, (20,20), 'constant', constant_values=(0, 0))\n",
    "\n",
    "fig, ax = plt.subplots(1,3, sharex=True, sharey=True, figsize=(12,4))\n",
    "plt.xlabel(\"Slice 0\")\n",
    "ax[0].imshow(x_test[0,...,0], aspect=\"auto\")\n",
    "ax[1].imshow(y_test[0,...,1], aspect=\"auto\")\n",
    "ax[2].imshow(mask, aspect=\"auto\")\n",
    "\n"
   ]
  },
  {
   "cell_type": "code",
   "execution_count": null,
   "metadata": {},
   "outputs": [],
   "source": [
    "# def pad_array(a, ref, x_offset, y_offset):\n",
    "#     result = np.zeros_like(ref)\n",
    "#     result[x_offset:a.shape[0]+x_offset, y_offset:a.shape[1]+y_offset] = a\n",
    "#     return result"
   ]
  },
  {
   "cell_type": "code",
   "execution_count": null,
   "metadata": {},
   "outputs": [],
   "source": [
    "# # Test the model\n",
    "\n",
    "# testGenerator = GrayImageDataProvider(\"data/test_full/*.png\", data_suffix=\".png\", mask_suffix=\"_mask.png\", augment_data=False)\n",
    "# testNet = unet.Unet(channels=testGenerator.channels, n_class=testGenerator.n_class, layers=3, features_root=32)\n",
    "\n",
    "# data_test, labels_test = testGenerator(1)\n",
    "\n",
    "# uberPrediction = np.zeros((456, 456))\n",
    "\n",
    "# for i in range(200):\n",
    "#     data_cropped, labels_cropped, x_offset, y_offset, x_flip, y_flip = randomPatch(data_test[0], labels_test[0], PATCH_SIZE, PATCH_SIZE)\n",
    "#     print(x_flip, y_flip)\n",
    "#     data_cropped = np.array([data_cropped])\n",
    "#     labels_cropped = np.array([labels_cropped])\n",
    "#     prediction = testNet.predict(\"./unet_trained/model.ckpt\", data_cropped)\n",
    "#     prediction = prediction[0,...,1] > 0.5\n",
    "#     prediction = np.pad(prediction, 20, 'constant', constant_values=False)\n",
    "\n",
    "#     #unflip\n",
    "#     if x_flip == True:\n",
    "#         print('flipping lr')\n",
    "#         prediction = np.fliplr(prediction)\n",
    "#     if y_flip == True:\n",
    "#         print('flipping ud')\n",
    "#         prediction = np.flipud(prediction)\n",
    "    \n",
    "#     #uncrop\n",
    "#     prediction = pad_array(prediction, uberPrediction, x_offset, y_offset)\n",
    "\n",
    "#     uberPrediction = np.maximum(uberPrediction, prediction)\n",
    "\n",
    "# # no theory\n",
    "# oneshot_prediction = testNet.predict(\"./unet_trained/model.ckpt\", data_test)\n",
    "# oneshot_prediction = oneshot_prediction[0,...,1] > 0.5\n",
    "# oneshot_prediction = np.pad(oneshot_prediction, 20, 'constant', constant_values=False)\n",
    "\n",
    "\n",
    "# fig, ax = plt.subplots(1,4, sharex=True, sharey=True, figsize=(16,4))\n",
    "# ax[0].imshow(data_test[0,...,0], aspect=\"auto\")\n",
    "# ax[1].imshow(labels_test[0,...,1], aspect=\"auto\")\n",
    "# ax[2].imshow(uberPrediction, aspect=\"auto\")\n",
    "# ax[3].imshow(oneshot_prediction, aspect=\"auto\")\n",
    "\n"
   ]
  },
  {
   "cell_type": "code",
   "execution_count": null,
   "metadata": {},
   "outputs": [],
   "source": []
  }
 ],
 "metadata": {
  "kernelspec": {
   "display_name": "venv2",
   "language": "python",
   "name": "venv2"
  },
  "language_info": {
   "codemirror_mode": {
    "name": "ipython",
    "version": 3
   },
   "file_extension": ".py",
   "mimetype": "text/x-python",
   "name": "python",
   "nbconvert_exporter": "python",
   "pygments_lexer": "ipython3",
   "version": "3.7.4"
  }
 },
 "nbformat": 4,
 "nbformat_minor": 2
}
