{
 "cells": [
  {
   "cell_type": "code",
   "execution_count": 1,
   "metadata": {},
   "outputs": [],
   "source": [
    "from __future__ import division, print_function\n",
    "%matplotlib inline\n",
    "import matplotlib.pyplot as plt\n",
    "import matplotlib\n",
    "import numpy as np\n",
    "import imgaug as ia\n",
    "import operator\n",
    "import functools\n",
    "import random\n",
    "from PIL import Image\n",
    "from imgaug import augmenters as iaa\n",
    "plt.rcParams['image.cmap'] = 'gray'\n",
    "np.random.seed(98765)\n"
   ]
  },
  {
   "cell_type": "code",
   "execution_count": 2,
   "metadata": {},
   "outputs": [],
   "source": [
    "from tf_unet import image_gen\n",
    "from tf_unet import unet\n",
    "from tf_unet import util\n",
    "from tf_unet.image_util import ImageDataProvider"
   ]
  },
  {
   "cell_type": "code",
   "execution_count": 3,
   "metadata": {},
   "outputs": [],
   "source": [
    "EPOCHS = 100\n",
    "PATCH_SIZE = 128\n",
    "MARGIN = 30\n",
    "DISCREET_MASK = True"
   ]
  },
  {
   "cell_type": "code",
   "execution_count": 4,
   "metadata": {},
   "outputs": [],
   "source": [
    "def randomCrop(img, mask, width, height):\n",
    "    assert img.shape[0] >= width\n",
    "    assert img.shape[1] >= height\n",
    "    assert img.shape[0] == mask.shape[0]\n",
    "    assert img.shape[1] == mask.shape[1]\n",
    "    x = random.randint(0, img.shape[0] - width)\n",
    "    y = random.randint(0, img.shape[1] - height)\n",
    "    img = img[x:x+width, y:y+height]\n",
    "    mask = mask[x:x+width, y:y+height]\n",
    "    return img, mask, x, y"
   ]
  },
  {
   "cell_type": "code",
   "execution_count": 5,
   "metadata": {},
   "outputs": [],
   "source": [
    "# def randomPatch(img, mask, width, height):\n",
    "#     img_cropped, mask_cropped, x_offset, y_offset = randomCrop(img, mask, width, height)\n",
    "    \n",
    "#     fliplr_random = np.random.random() > 0.5\n",
    "#     flipud_random = np.random.random() > 0.5\n",
    "    \n",
    "#     if fliplr_random:\n",
    "#         img_cropped = np.fliplr(img_cropped)\n",
    "#         mask_cropped = np.fliplr(mask_cropped)\n",
    "        \n",
    "#     if flipud_random:\n",
    "#         img_cropped = np.flipud(img_cropped)\n",
    "#         mask_cropped = np.flipud(mask_cropped)\n",
    "        \n",
    "#     return img_cropped, mask_cropped, x_offset, y_offset, fliplr_random, flipud_random\n",
    "    \n",
    "    "
   ]
  },
  {
   "cell_type": "code",
   "execution_count": 6,
   "metadata": {},
   "outputs": [],
   "source": [
    "# Define augmentation\n",
    "def do_augment_data(data, labels, flip_ud=True):\n",
    "    image = data\n",
    "    mask = labels\n",
    "    \n",
    "    flip_ud_prob = 0\n",
    "    if (flip_ud == True):\n",
    "        flip_ud_prob = 0.5\n",
    "    \n",
    "    # more aggressive augmentation:\n",
    "    seq = iaa.Sequential([\n",
    "        iaa.Fliplr(0.5),\n",
    "        iaa.Flipud(flip_ud_prob),\n",
    "        iaa.Crop(percent=(0, 0.05)),\n",
    "        iaa.Affine(\n",
    "            scale={\"x\": (0.90, 1.10), \"y\": (0.90, 1.10)},\n",
    "            translate_percent={\"x\": (-0.01, 0.01), \"y\": (-0.01, 0.01)},\n",
    "            rotate=(-45, 45),\n",
    "            shear=(-5, 5)\n",
    "        )\n",
    "    ], random_order = True)\n",
    "\n",
    "    seq_det = seq.to_deterministic()\n",
    "\n",
    "    image_aug = seq_det.augment_image(image)\n",
    "    mask_aug = seq_det.augment_image(mask)\n",
    "\n",
    "    if (DISCREET_MASK == True):\n",
    "        # augmentation makes some of these values not discreet, fix them here.\n",
    "        mask_aug[mask_aug > 0.5] = 1\n",
    "        mask_aug[mask_aug <= 0.5] = 0\n",
    "            \n",
    "    return image_aug, mask_aug"
   ]
  },
  {
   "cell_type": "code",
   "execution_count": 7,
   "metadata": {},
   "outputs": [],
   "source": [
    "# Create a generator that uses the Image data provider\n",
    "\n",
    "\n",
    "class GrayImageDataProvider(ImageDataProvider):\n",
    "    def __init__(self, search_path, a_min=None, a_max=None, data_suffix=\".png\", mask_suffix='_mask.png', shuffle_data=True, augment_data=False, flip_ud=True):\n",
    "        self.augment_data = augment_data\n",
    "        self.flip_ud = flip_id\n",
    "        super(GrayImageDataProvider, self).__init__(search_path, a_min, a_max, data_suffix, mask_suffix, shuffle_data)\n",
    "\n",
    "    def _load_file(self, path, dtype=np.float32):\n",
    "        #im = equalize(Image.open(path).convert('L'))\n",
    "        im = Image.open(path).convert('L')\n",
    "        return np.array(im, dtype)\n",
    "    \n",
    "    def _post_process(self, data, labels):\n",
    "        if (self.augment_data):\n",
    "            data_aug, labels_aug = do_augment_data(data, labels, self.flip_ud)\n",
    "        else:\n",
    "            data_aug, labels_aug = data, labels\n",
    "        return data_aug, labels_aug;"
   ]
  },
  {
   "cell_type": "code",
   "execution_count": 143,
   "metadata": {},
   "outputs": [],
   "source": [
    "class CropDataProvider(GrayImageDataProvider):\n",
    "    def __init__(self, search_path, augment_data=False, size=PATCH_SIZE, only_positive=False, crop_first=True, flip_ud=True):\n",
    "        self.size = size\n",
    "        self.only_positive = only_positive\n",
    "        self.crop_first = crop_first\n",
    "        super(CropDataProvider, self).__init__(search_path, augment_data=augment_data, flip_id=flip_ud)\n",
    "    \n",
    "    def _post_process(self, data, labels):\n",
    "        if (self.crop_first == True):\n",
    "            while(True):\n",
    "                cropped_data, cropped_labels, x_offset, y_offset = randomCrop(data, labels, self.size, self.size)\n",
    "\n",
    "                # ignore crops with CACs in the margins\n",
    "                if ([0,1] in cropped_labels[0:MARGIN, 0:self.size] or\n",
    "                    [0,1] in cropped_labels[0:self.size, 0:MARGIN] or\n",
    "                    [0,1] in cropped_labels[-MARGIN:self.size, 0:self.size] or\n",
    "                    [0,1] in cropped_labels[0:self.size, -MARGIN:self.size]):\n",
    "                    continue\n",
    "\n",
    "                if(self.only_positive == True):\n",
    "                    if (not [0,1] in cropped_labels[MARGIN:-MARGIN, MARGIN:-MARGIN]):\n",
    "                        continue\n",
    "\n",
    "                return super(CropDataProvider, self)._post_process(cropped_data, cropped_labels)\n",
    "        else:\n",
    "            while(True):\n",
    "                data_aug, labels_aug = super(CropDataProvider, self)._post_process(data, labels)\n",
    "                cropped_data, cropped_labels, x_offset, y_offset = randomCrop(data_aug, labels_aug, self.size, self.size)\n",
    "\n",
    "                # ignore crops with CACs in the margins\n",
    "                if ([0,1] in cropped_labels[0:MARGIN, 0:self.size] or\n",
    "                    [0,1] in cropped_labels[0:self.size, 0:MARGIN] or\n",
    "                    [0,1] in cropped_labels[-MARGIN:self.size, 0:self.size] or\n",
    "                    [0,1] in cropped_labels[0:self.size, -MARGIN:self.size]):\n",
    "                    continue                \n",
    "                \n",
    "                if(self.only_positive == True):\n",
    "                    if ([0,1] not in cropped_labels[MARGIN:-MARGIN, MARGIN:-MARGIN]):\n",
    "                        continue\n",
    "                return cropped_data, cropped_labels\n",
    "    \n",
    "    def _next_data(self):\n",
    "        while(True):\n",
    "            img, label = super(CropDataProvider, self)._next_data()\n",
    "            if(self.only_positive == True and np.amax(label) == False):\n",
    "                continue\n",
    "            return img, label\n",
    "                \n",
    "    "
   ]
  },
  {
   "cell_type": "code",
   "execution_count": 174,
   "metadata": {
    "scrolled": false
   },
   "outputs": [
    {
     "name": "stdout",
     "output_type": "stream",
     "text": [
      "Number of files used: 1\n",
      "Number of channels: 1\n",
      "Number of classes: 2\n"
     ]
    }
   ],
   "source": [
    "#generator = GrayImageDataProvider(\"data/training/*.png\", augment_data=True)\n",
    "generator = CropDataProvider(\"data/_old_training/training_poster/*.png\", augment_data=True, size=PATCH_SIZE, only_positive=False, crop_first=False)\n",
    "#generator = CropDataProvider(\"data/training/*.png\", augment_data=True, size=PATCH_SIZE)"
   ]
  },
  {
   "cell_type": "code",
   "execution_count": 193,
   "metadata": {
    "scrolled": false
   },
   "outputs": [
    {
     "data": {
      "text/plain": [
       "<matplotlib.image.AxesImage at 0x158476a90>"
      ]
     },
     "execution_count": 193,
     "metadata": {},
     "output_type": "execute_result"
    },
    {
     "data": {
      "image/png": "[encoded data removed]",
      "text/plain": [
       "<Figure size 288x648 with 2 Axes>"
      ]
     },
     "metadata": {},
     "output_type": "display_data"
    }
   ],
   "source": [
    "# visualize one of the files\n",
    "\n",
    "x_test, y_test = generator(1)\n",
    "\n",
    "fig, ax = plt.subplots(2,1, sharey=True, figsize=(4,9))\n",
    "ax[0].axis('off')\n",
    "ax[1].axis('off')\n",
    "ax[0].imshow(x_test[0,...,0], aspect=\"auto\")\n",
    "ax[1].imshow(y_test[0,...,1], aspect=\"auto\")"
   ]
  },
  {
   "cell_type": "code",
   "execution_count": 166,
   "metadata": {},
   "outputs": [
    {
     "data": {
      "text/plain": [
       "<matplotlib.image.AxesImage at 0x1542ea950>"
      ]
     },
     "execution_count": 166,
     "metadata": {},
     "output_type": "execute_result"
    },
    {
     "data": {
      "image/png": "[encoded data removed]",
      "text/plain": [
       "<Figure size 576x576 with 4 Axes>"
      ]
     },
     "metadata": {},
     "output_type": "display_data"
    }
   ],
   "source": [
    "# visualize the augmentation\n",
    "\n",
    "x_test, y_test = generator(1)\n",
    "\n",
    "image = x_test[0,...,0]\n",
    "mask = y_test[0,...,1]\n",
    "\n",
    "image_aug, mask_aug = do_augment_data(image, mask)\n",
    "\n",
    "fig, ax = plt.subplots(2,2, sharey=True, figsize=(8,8))\n",
    "ax[0, 0].imshow(image, aspect=\"auto\")\n",
    "ax[1, 0].imshow(image_aug, aspect=\"auto\")\n",
    "ax[0, 1].imshow(mask, aspect=\"auto\")\n",
    "ax[1, 1].imshow(mask_aug, aspect=\"auto\")\n",
    "\n"
   ]
  },
  {
   "cell_type": "code",
   "execution_count": 12,
   "metadata": {},
   "outputs": [
    {
     "name": "stderr",
     "output_type": "stream",
     "text": [
      "2019-08-01 00:16:34,185 Layers 3, features 32, filter size 3x3, pool size: 2x2\n"
     ]
    },
    {
     "name": "stdout",
     "output_type": "stream",
     "text": [
      "Number of files used: 51\n",
      "Number of channels: 1\n",
      "Number of classes: 2\n",
      "WARNING:tensorflow:From /Users/nsemsarilar/code/dl/venv2/lib/python3.7/site-packages/tensorflow/python/framework/op_def_library.py:263: colocate_with (from tensorflow.python.framework.ops) is deprecated and will be removed in a future version.\n",
      "Instructions for updating:\n",
      "Colocations handled automatically by placer.\n"
     ]
    },
    {
     "name": "stderr",
     "output_type": "stream",
     "text": [
      "2019-08-01 00:16:34,201 From /Users/nsemsarilar/code/dl/venv2/lib/python3.7/site-packages/tensorflow/python/framework/op_def_library.py:263: colocate_with (from tensorflow.python.framework.ops) is deprecated and will be removed in a future version.\n",
      "Instructions for updating:\n",
      "Colocations handled automatically by placer.\n"
     ]
    },
    {
     "name": "stdout",
     "output_type": "stream",
     "text": [
      "WARNING:tensorflow:From /Users/nsemsarilar/code/dl/tf_unet/tf_unet/layers.py:39: calling dropout (from tensorflow.python.ops.nn_ops) with keep_prob is deprecated and will be removed in a future version.\n",
      "Instructions for updating:\n",
      "Please use `rate` instead of `keep_prob`. Rate should be set to `rate = 1 - keep_prob`.\n"
     ]
    },
    {
     "name": "stderr",
     "output_type": "stream",
     "text": [
      "2019-08-01 00:16:34,222 From /Users/nsemsarilar/code/dl/tf_unet/tf_unet/layers.py:39: calling dropout (from tensorflow.python.ops.nn_ops) with keep_prob is deprecated and will be removed in a future version.\n",
      "Instructions for updating:\n",
      "Please use `rate` instead of `keep_prob`. Rate should be set to `rate = 1 - keep_prob`.\n"
     ]
    }
   ],
   "source": [
    "# The network\n",
    "\n",
    "generator = CropDataProvider(\"../_data/localizer_training/*.png\", augment_data=True, size=PATCH_SIZE, only_positive=True)\n",
    "net = unet.Unet(channels=generator.channels, n_class=generator.n_class, layers=3, features_root=32)\n",
    "#net = unet.Unet(channels=generator.channels, n_class=generator.n_class, layers=3, features_root=32, cost_kwargs=dict(regularizer=0.001, class_weights=[1., 200.]))"
   ]
  },
  {
   "cell_type": "code",
   "execution_count": 13,
   "metadata": {},
   "outputs": [
    {
     "name": "stderr",
     "output_type": "stream",
     "text": [
      "2019-08-01 00:16:38,561 Removing '/Users/nsemsarilar/code/dl/tf_unet/localizer/prediction'\n",
      "2019-08-01 00:16:38,562 Removing '/Users/nsemsarilar/code/dl/tf_unet/localizer/unet_trained'\n",
      "2019-08-01 00:16:38,574 Allocating '/Users/nsemsarilar/code/dl/tf_unet/localizer/prediction'\n",
      "2019-08-01 00:16:38,576 Allocating '/Users/nsemsarilar/code/dl/tf_unet/localizer/unet_trained'\n",
      "2019-08-01 00:16:40,059 Verification error= 5.8%, loss= 0.6448\n",
      "2019-08-01 00:16:40,429 Start optimization\n",
      "2019-08-01 00:16:41,598 Iter 0, Minibatch Loss= 0.5370, Training Accuracy= 0.9892, Minibatch error= 1.1%\n",
      "2019-08-01 00:16:48,148 Iter 16, Minibatch Loss= 0.2364, Training Accuracy= 0.9717, Minibatch error= 2.8%\n"
     ]
    },
    {
     "ename": "KeyboardInterrupt",
     "evalue": "",
     "output_type": "error",
     "traceback": [
      "\u001b[0;31m---------------------------------------------------------------------------\u001b[0m",
      "\u001b[0;31mKeyboardInterrupt\u001b[0m                         Traceback (most recent call last)",
      "\u001b[0;32m<ipython-input-13-3f6860abd8b5>\u001b[0m in \u001b[0;36m<module>\u001b[0;34m()\u001b[0m\n\u001b[1;32m      3\u001b[0m \u001b[0;31m#trainer = unet.Trainer(net, optimizer=\"momentum\", batch_size=1, opt_kwargs=dict(momentum=0.2))\u001b[0m\u001b[0;34m\u001b[0m\u001b[0;34m\u001b[0m\u001b[0;34m\u001b[0m\u001b[0m\n\u001b[1;32m      4\u001b[0m \u001b[0mtrainer\u001b[0m \u001b[0;34m=\u001b[0m \u001b[0munet\u001b[0m\u001b[0;34m.\u001b[0m\u001b[0mTrainer\u001b[0m\u001b[0;34m(\u001b[0m\u001b[0mnet\u001b[0m\u001b[0;34m,\u001b[0m \u001b[0moptimizer\u001b[0m\u001b[0;34m=\u001b[0m\u001b[0;34m\"adam\"\u001b[0m\u001b[0;34m,\u001b[0m \u001b[0mverification_batch_size\u001b[0m \u001b[0;34m=\u001b[0m \u001b[0;36m4\u001b[0m\u001b[0;34m)\u001b[0m\u001b[0;34m\u001b[0m\u001b[0;34m\u001b[0m\u001b[0m\n\u001b[0;32m----> 5\u001b[0;31m \u001b[0mpath\u001b[0m \u001b[0;34m=\u001b[0m \u001b[0mtrainer\u001b[0m\u001b[0;34m.\u001b[0m\u001b[0mtrain\u001b[0m\u001b[0;34m(\u001b[0m\u001b[0mgenerator\u001b[0m\u001b[0;34m,\u001b[0m \u001b[0;34m\"./unet_trained\"\u001b[0m\u001b[0;34m,\u001b[0m \u001b[0mtraining_iters\u001b[0m\u001b[0;34m=\u001b[0m\u001b[0;36m32\u001b[0m\u001b[0;34m,\u001b[0m \u001b[0mepochs\u001b[0m\u001b[0;34m=\u001b[0m\u001b[0mEPOCHS\u001b[0m\u001b[0;34m,\u001b[0m \u001b[0mdisplay_step\u001b[0m\u001b[0;34m=\u001b[0m\u001b[0;36m16\u001b[0m\u001b[0;34m)\u001b[0m\u001b[0;34m\u001b[0m\u001b[0;34m\u001b[0m\u001b[0m\n\u001b[0m",
      "\u001b[0;32m~/code/dl/tf_unet/tf_unet/unet.py\u001b[0m in \u001b[0;36mtrain\u001b[0;34m(self, data_provider, output_path, training_iters, epochs, dropout, display_step, restore, write_graph, prediction_path)\u001b[0m\n\u001b[1;32m    430\u001b[0m                 \u001b[0mtotal_loss\u001b[0m \u001b[0;34m=\u001b[0m \u001b[0;36m0\u001b[0m\u001b[0;34m\u001b[0m\u001b[0;34m\u001b[0m\u001b[0m\n\u001b[1;32m    431\u001b[0m                 \u001b[0;32mfor\u001b[0m \u001b[0mstep\u001b[0m \u001b[0;32min\u001b[0m \u001b[0mrange\u001b[0m\u001b[0;34m(\u001b[0m\u001b[0;34m(\u001b[0m\u001b[0mepoch\u001b[0m \u001b[0;34m*\u001b[0m \u001b[0mtraining_iters\u001b[0m\u001b[0;34m)\u001b[0m\u001b[0;34m,\u001b[0m \u001b[0;34m(\u001b[0m\u001b[0;34m(\u001b[0m\u001b[0mepoch\u001b[0m \u001b[0;34m+\u001b[0m \u001b[0;36m1\u001b[0m\u001b[0;34m)\u001b[0m \u001b[0;34m*\u001b[0m \u001b[0mtraining_iters\u001b[0m\u001b[0;34m)\u001b[0m\u001b[0;34m)\u001b[0m\u001b[0;34m:\u001b[0m\u001b[0;34m\u001b[0m\u001b[0;34m\u001b[0m\u001b[0m\n\u001b[0;32m--> 432\u001b[0;31m                     \u001b[0mbatch_x\u001b[0m\u001b[0;34m,\u001b[0m \u001b[0mbatch_y\u001b[0m \u001b[0;34m=\u001b[0m \u001b[0mdata_provider\u001b[0m\u001b[0;34m(\u001b[0m\u001b[0mself\u001b[0m\u001b[0;34m.\u001b[0m\u001b[0mbatch_size\u001b[0m\u001b[0;34m)\u001b[0m\u001b[0;34m\u001b[0m\u001b[0;34m\u001b[0m\u001b[0m\n\u001b[0m\u001b[1;32m    433\u001b[0m \u001b[0;34m\u001b[0m\u001b[0m\n\u001b[1;32m    434\u001b[0m                     \u001b[0;31m# Run optimization op (backprop)\u001b[0m\u001b[0;34m\u001b[0m\u001b[0;34m\u001b[0m\u001b[0;34m\u001b[0m\u001b[0m\n",
      "\u001b[0;32m~/code/dl/tf_unet/tf_unet/image_util.py\u001b[0m in \u001b[0;36m__call__\u001b[0;34m(self, n)\u001b[0m\n\u001b[1;32m     87\u001b[0m \u001b[0;34m\u001b[0m\u001b[0m\n\u001b[1;32m     88\u001b[0m     \u001b[0;32mdef\u001b[0m \u001b[0m__call__\u001b[0m\u001b[0;34m(\u001b[0m\u001b[0mself\u001b[0m\u001b[0;34m,\u001b[0m \u001b[0mn\u001b[0m\u001b[0;34m)\u001b[0m\u001b[0;34m:\u001b[0m\u001b[0;34m\u001b[0m\u001b[0;34m\u001b[0m\u001b[0m\n\u001b[0;32m---> 89\u001b[0;31m         \u001b[0mtrain_data\u001b[0m\u001b[0;34m,\u001b[0m \u001b[0mlabels\u001b[0m \u001b[0;34m=\u001b[0m \u001b[0mself\u001b[0m\u001b[0;34m.\u001b[0m\u001b[0m_load_data_and_label\u001b[0m\u001b[0;34m(\u001b[0m\u001b[0;34m)\u001b[0m\u001b[0;34m\u001b[0m\u001b[0;34m\u001b[0m\u001b[0m\n\u001b[0m\u001b[1;32m     90\u001b[0m         \u001b[0mnx\u001b[0m \u001b[0;34m=\u001b[0m \u001b[0mtrain_data\u001b[0m\u001b[0;34m.\u001b[0m\u001b[0mshape\u001b[0m\u001b[0;34m[\u001b[0m\u001b[0;36m1\u001b[0m\u001b[0;34m]\u001b[0m\u001b[0;34m\u001b[0m\u001b[0;34m\u001b[0m\u001b[0m\n\u001b[1;32m     91\u001b[0m         \u001b[0mny\u001b[0m \u001b[0;34m=\u001b[0m \u001b[0mtrain_data\u001b[0m\u001b[0;34m.\u001b[0m\u001b[0mshape\u001b[0m\u001b[0;34m[\u001b[0m\u001b[0;36m2\u001b[0m\u001b[0;34m]\u001b[0m\u001b[0;34m\u001b[0m\u001b[0;34m\u001b[0m\u001b[0m\n",
      "\u001b[0;32m~/code/dl/tf_unet/tf_unet/image_util.py\u001b[0m in \u001b[0;36m_load_data_and_label\u001b[0;34m(self)\u001b[0m\n\u001b[1;32m     44\u001b[0m \u001b[0;34m\u001b[0m\u001b[0m\n\u001b[1;32m     45\u001b[0m     \u001b[0;32mdef\u001b[0m \u001b[0m_load_data_and_label\u001b[0m\u001b[0;34m(\u001b[0m\u001b[0mself\u001b[0m\u001b[0;34m)\u001b[0m\u001b[0;34m:\u001b[0m\u001b[0;34m\u001b[0m\u001b[0;34m\u001b[0m\u001b[0m\n\u001b[0;32m---> 46\u001b[0;31m         \u001b[0mdata\u001b[0m\u001b[0;34m,\u001b[0m \u001b[0mlabel\u001b[0m \u001b[0;34m=\u001b[0m \u001b[0mself\u001b[0m\u001b[0;34m.\u001b[0m\u001b[0m_next_data\u001b[0m\u001b[0;34m(\u001b[0m\u001b[0;34m)\u001b[0m\u001b[0;34m\u001b[0m\u001b[0;34m\u001b[0m\u001b[0m\n\u001b[0m\u001b[1;32m     47\u001b[0m \u001b[0;34m\u001b[0m\u001b[0m\n\u001b[1;32m     48\u001b[0m         \u001b[0mtrain_data\u001b[0m \u001b[0;34m=\u001b[0m \u001b[0mself\u001b[0m\u001b[0;34m.\u001b[0m\u001b[0m_process_data\u001b[0m\u001b[0;34m(\u001b[0m\u001b[0mdata\u001b[0m\u001b[0;34m)\u001b[0m\u001b[0;34m\u001b[0m\u001b[0;34m\u001b[0m\u001b[0m\n",
      "\u001b[0;32m<ipython-input-8-dd334c1053bc>\u001b[0m in \u001b[0;36m_next_data\u001b[0;34m(self)\u001b[0m\n\u001b[1;32m     24\u001b[0m     \u001b[0;32mdef\u001b[0m \u001b[0m_next_data\u001b[0m\u001b[0;34m(\u001b[0m\u001b[0mself\u001b[0m\u001b[0;34m)\u001b[0m\u001b[0;34m:\u001b[0m\u001b[0;34m\u001b[0m\u001b[0;34m\u001b[0m\u001b[0m\n\u001b[1;32m     25\u001b[0m         \u001b[0;32mwhile\u001b[0m\u001b[0;34m(\u001b[0m\u001b[0;32mTrue\u001b[0m\u001b[0;34m)\u001b[0m\u001b[0;34m:\u001b[0m\u001b[0;34m\u001b[0m\u001b[0;34m\u001b[0m\u001b[0m\n\u001b[0;32m---> 26\u001b[0;31m             \u001b[0mimg\u001b[0m\u001b[0;34m,\u001b[0m \u001b[0mlabel\u001b[0m \u001b[0;34m=\u001b[0m \u001b[0msuper\u001b[0m\u001b[0;34m(\u001b[0m\u001b[0mCropDataProvider\u001b[0m\u001b[0;34m,\u001b[0m \u001b[0mself\u001b[0m\u001b[0;34m)\u001b[0m\u001b[0;34m.\u001b[0m\u001b[0m_next_data\u001b[0m\u001b[0;34m(\u001b[0m\u001b[0;34m)\u001b[0m\u001b[0;34m\u001b[0m\u001b[0;34m\u001b[0m\u001b[0m\n\u001b[0m\u001b[1;32m     27\u001b[0m             \u001b[0;32mif\u001b[0m\u001b[0;34m(\u001b[0m\u001b[0mself\u001b[0m\u001b[0;34m.\u001b[0m\u001b[0monly_positive\u001b[0m \u001b[0;34m==\u001b[0m \u001b[0;32mTrue\u001b[0m \u001b[0;32mand\u001b[0m \u001b[0mnp\u001b[0m\u001b[0;34m.\u001b[0m\u001b[0mamax\u001b[0m\u001b[0;34m(\u001b[0m\u001b[0mlabel\u001b[0m\u001b[0;34m)\u001b[0m \u001b[0;34m==\u001b[0m \u001b[0;32mFalse\u001b[0m\u001b[0;34m)\u001b[0m\u001b[0;34m:\u001b[0m\u001b[0;34m\u001b[0m\u001b[0;34m\u001b[0m\u001b[0m\n\u001b[1;32m     28\u001b[0m                 \u001b[0;32mcontinue\u001b[0m\u001b[0;34m\u001b[0m\u001b[0;34m\u001b[0m\u001b[0m\n",
      "\u001b[0;32m~/code/dl/tf_unet/tf_unet/image_util.py\u001b[0m in \u001b[0;36m_next_data\u001b[0;34m(self)\u001b[0m\n\u001b[1;32m    195\u001b[0m         \u001b[0mlabel_name\u001b[0m \u001b[0;34m=\u001b[0m \u001b[0mimage_name\u001b[0m\u001b[0;34m.\u001b[0m\u001b[0mreplace\u001b[0m\u001b[0;34m(\u001b[0m\u001b[0mself\u001b[0m\u001b[0;34m.\u001b[0m\u001b[0mdata_suffix\u001b[0m\u001b[0;34m,\u001b[0m \u001b[0mself\u001b[0m\u001b[0;34m.\u001b[0m\u001b[0mmask_suffix\u001b[0m\u001b[0;34m)\u001b[0m\u001b[0;34m\u001b[0m\u001b[0;34m\u001b[0m\u001b[0m\n\u001b[1;32m    196\u001b[0m \u001b[0;34m\u001b[0m\u001b[0m\n\u001b[0;32m--> 197\u001b[0;31m         \u001b[0mimg\u001b[0m \u001b[0;34m=\u001b[0m \u001b[0mself\u001b[0m\u001b[0;34m.\u001b[0m\u001b[0m_load_file\u001b[0m\u001b[0;34m(\u001b[0m\u001b[0mimage_name\u001b[0m\u001b[0;34m,\u001b[0m \u001b[0mnp\u001b[0m\u001b[0;34m.\u001b[0m\u001b[0mfloat32\u001b[0m\u001b[0;34m)\u001b[0m\u001b[0;34m\u001b[0m\u001b[0;34m\u001b[0m\u001b[0m\n\u001b[0m\u001b[1;32m    198\u001b[0m         \u001b[0mlabel\u001b[0m \u001b[0;34m=\u001b[0m \u001b[0mself\u001b[0m\u001b[0;34m.\u001b[0m\u001b[0m_load_file\u001b[0m\u001b[0;34m(\u001b[0m\u001b[0mlabel_name\u001b[0m\u001b[0;34m,\u001b[0m \u001b[0mnp\u001b[0m\u001b[0;34m.\u001b[0m\u001b[0mbool\u001b[0m\u001b[0;34m)\u001b[0m\u001b[0;34m\u001b[0m\u001b[0;34m\u001b[0m\u001b[0m\n\u001b[1;32m    199\u001b[0m \u001b[0;34m\u001b[0m\u001b[0m\n",
      "\u001b[0;32m<ipython-input-7-8e4777349b30>\u001b[0m in \u001b[0;36m_load_file\u001b[0;34m(self, path, dtype)\u001b[0m\n\u001b[1;32m      9\u001b[0m     \u001b[0;32mdef\u001b[0m \u001b[0m_load_file\u001b[0m\u001b[0;34m(\u001b[0m\u001b[0mself\u001b[0m\u001b[0;34m,\u001b[0m \u001b[0mpath\u001b[0m\u001b[0;34m,\u001b[0m \u001b[0mdtype\u001b[0m\u001b[0;34m=\u001b[0m\u001b[0mnp\u001b[0m\u001b[0;34m.\u001b[0m\u001b[0mfloat32\u001b[0m\u001b[0;34m)\u001b[0m\u001b[0;34m:\u001b[0m\u001b[0;34m\u001b[0m\u001b[0;34m\u001b[0m\u001b[0m\n\u001b[1;32m     10\u001b[0m         \u001b[0;31m#im = equalize(Image.open(path).convert('L'))\u001b[0m\u001b[0;34m\u001b[0m\u001b[0;34m\u001b[0m\u001b[0;34m\u001b[0m\u001b[0m\n\u001b[0;32m---> 11\u001b[0;31m         \u001b[0mim\u001b[0m \u001b[0;34m=\u001b[0m \u001b[0mImage\u001b[0m\u001b[0;34m.\u001b[0m\u001b[0mopen\u001b[0m\u001b[0;34m(\u001b[0m\u001b[0mpath\u001b[0m\u001b[0;34m)\u001b[0m\u001b[0;34m.\u001b[0m\u001b[0mconvert\u001b[0m\u001b[0;34m(\u001b[0m\u001b[0;34m'L'\u001b[0m\u001b[0;34m)\u001b[0m\u001b[0;34m\u001b[0m\u001b[0;34m\u001b[0m\u001b[0m\n\u001b[0m\u001b[1;32m     12\u001b[0m         \u001b[0;32mreturn\u001b[0m \u001b[0mnp\u001b[0m\u001b[0;34m.\u001b[0m\u001b[0marray\u001b[0m\u001b[0;34m(\u001b[0m\u001b[0mim\u001b[0m\u001b[0;34m,\u001b[0m \u001b[0mdtype\u001b[0m\u001b[0;34m)\u001b[0m\u001b[0;34m\u001b[0m\u001b[0;34m\u001b[0m\u001b[0m\n\u001b[1;32m     13\u001b[0m \u001b[0;34m\u001b[0m\u001b[0m\n",
      "\u001b[0;32m/usr/local/lib/python3.7/site-packages/PIL/Image.py\u001b[0m in \u001b[0;36mconvert\u001b[0;34m(self, mode, matrix, dither, palette, colors)\u001b[0m\n\u001b[1;32m    910\u001b[0m         \"\"\"\n\u001b[1;32m    911\u001b[0m \u001b[0;34m\u001b[0m\u001b[0m\n\u001b[0;32m--> 912\u001b[0;31m         \u001b[0mself\u001b[0m\u001b[0;34m.\u001b[0m\u001b[0mload\u001b[0m\u001b[0;34m(\u001b[0m\u001b[0;34m)\u001b[0m\u001b[0;34m\u001b[0m\u001b[0;34m\u001b[0m\u001b[0m\n\u001b[0m\u001b[1;32m    913\u001b[0m \u001b[0;34m\u001b[0m\u001b[0m\n\u001b[1;32m    914\u001b[0m         \u001b[0;32mif\u001b[0m \u001b[0;32mnot\u001b[0m \u001b[0mmode\u001b[0m \u001b[0;32mand\u001b[0m \u001b[0mself\u001b[0m\u001b[0;34m.\u001b[0m\u001b[0mmode\u001b[0m \u001b[0;34m==\u001b[0m \u001b[0;34m\"P\"\u001b[0m\u001b[0;34m:\u001b[0m\u001b[0;34m\u001b[0m\u001b[0;34m\u001b[0m\u001b[0m\n",
      "\u001b[0;32m/usr/local/lib/python3.7/site-packages/PIL/ImageFile.py\u001b[0m in \u001b[0;36mload\u001b[0;34m(self)\u001b[0m\n\u001b[1;32m    240\u001b[0m \u001b[0;34m\u001b[0m\u001b[0m\n\u001b[1;32m    241\u001b[0m                             \u001b[0mb\u001b[0m \u001b[0;34m=\u001b[0m \u001b[0mb\u001b[0m \u001b[0;34m+\u001b[0m \u001b[0ms\u001b[0m\u001b[0;34m\u001b[0m\u001b[0;34m\u001b[0m\u001b[0m\n\u001b[0;32m--> 242\u001b[0;31m                             \u001b[0mn\u001b[0m\u001b[0;34m,\u001b[0m \u001b[0merr_code\u001b[0m \u001b[0;34m=\u001b[0m \u001b[0mdecoder\u001b[0m\u001b[0;34m.\u001b[0m\u001b[0mdecode\u001b[0m\u001b[0;34m(\u001b[0m\u001b[0mb\u001b[0m\u001b[0;34m)\u001b[0m\u001b[0;34m\u001b[0m\u001b[0;34m\u001b[0m\u001b[0m\n\u001b[0m\u001b[1;32m    243\u001b[0m                             \u001b[0;32mif\u001b[0m \u001b[0mn\u001b[0m \u001b[0;34m<\u001b[0m \u001b[0;36m0\u001b[0m\u001b[0;34m:\u001b[0m\u001b[0;34m\u001b[0m\u001b[0;34m\u001b[0m\u001b[0m\n\u001b[1;32m    244\u001b[0m                                 \u001b[0;32mbreak\u001b[0m\u001b[0;34m\u001b[0m\u001b[0;34m\u001b[0m\u001b[0m\n",
      "\u001b[0;31mKeyboardInterrupt\u001b[0m: "
     ]
    }
   ],
   "source": [
    "# Train the model\n",
    "\n",
    "#trainer = unet.Trainer(net, optimizer=\"momentum\", batch_size=1, opt_kwargs=dict(momentum=0.2))\n",
    "trainer = unet.Trainer(net, optimizer=\"adam\", verification_batch_size = 4)\n",
    "path = trainer.train(generator, \"./unet_trained\", training_iters=32, epochs=EPOCHS, display_step=16)\n",
    "\n"
   ]
  },
  {
   "cell_type": "code",
   "execution_count": null,
   "metadata": {},
   "outputs": [],
   "source": [
    "# Continued training (restore, use both negative and positive values)\n",
    "\n",
    "negGenerator = CropDataProvider(\"../_data/localizer_training/screenshots/combined/*.png\", augment_data=True, size=PATCH_SIZE, only_positive=False)\n",
    "net = unet.Unet(channels=negGenerator.channels, n_class=negGenerator.n_class, layers=3, features_root=32)\n",
    "trainer = unet.Trainer(net, optimizer=\"adam\", verification_batch_size = 4)\n",
    "path = trainer.train(negGenerator, \"./unet_trained\", restore=True, training_iters=32, epochs=EPOCHS, display_step=16)\n",
    "\n"
   ]
  },
  {
   "cell_type": "code",
   "execution_count": null,
   "metadata": {},
   "outputs": [],
   "source": [
    "# Test the model\n",
    "\n",
    "testGenerator = GrayImageDataProvider(\"data/10_169.png\", data_suffix=\".png\", mask_suffix=\".png\", augment_data=False)\n",
    "#testGenerator = CropDataProvider(\"data/test/*.png\", augment_data=False, size=PATCH_SIZE, only_positive=False)\n",
    "x_test, y_test = testGenerator(1)\n",
    "testNet = unet.Unet(channels=testGenerator.channels, n_class=testGenerator.n_class, layers=3, features_root=32)\n",
    "prediction = testNet.predict(\"./unet_trained/model.ckpt\", x_test)\n",
    "mask = prediction[0,...,1] > 0.1\n",
    "#mask = prediction[0,...,1]\n",
    "mask = np.pad(mask, (20,20), 'constant', constant_values=(0, 0))\n",
    "\n",
    "fig, ax = plt.subplots(1,3, sharex=True, sharey=True, figsize=(12,4))\n",
    "plt.xlabel(\"Slice 0\")\n",
    "ax[0].imshow(x_test[0,...,0], aspect=\"auto\")\n",
    "ax[1].imshow(y_test[0,...,1], aspect=\"auto\")\n",
    "ax[2].imshow(mask, aspect=\"auto\")\n",
    "\n"
   ]
  },
  {
   "cell_type": "code",
   "execution_count": 57,
   "metadata": {},
   "outputs": [],
   "source": [
    "# def pad_array(a, ref, x_offset, y_offset):\n",
    "#     result = np.zeros_like(ref)\n",
    "#     result[x_offset:a.shape[0]+x_offset, y_offset:a.shape[1]+y_offset] = a\n",
    "#     return result"
   ]
  },
  {
   "cell_type": "code",
   "execution_count": 16,
   "metadata": {},
   "outputs": [],
   "source": [
    "# # Test the model\n",
    "\n",
    "# testGenerator = GrayImageDataProvider(\"data/test_full/*.png\", data_suffix=\".png\", mask_suffix=\"_mask.png\", augment_data=False)\n",
    "# testNet = unet.Unet(channels=testGenerator.channels, n_class=testGenerator.n_class, layers=3, features_root=32)\n",
    "\n",
    "# data_test, labels_test = testGenerator(1)\n",
    "\n",
    "# uberPrediction = np.zeros((456, 456))\n",
    "\n",
    "# for i in range(200):\n",
    "#     data_cropped, labels_cropped, x_offset, y_offset, x_flip, y_flip = randomPatch(data_test[0], labels_test[0], PATCH_SIZE, PATCH_SIZE)\n",
    "#     print(x_flip, y_flip)\n",
    "#     data_cropped = np.array([data_cropped])\n",
    "#     labels_cropped = np.array([labels_cropped])\n",
    "#     prediction = testNet.predict(\"./unet_trained/model.ckpt\", data_cropped)\n",
    "#     prediction = prediction[0,...,1] > 0.5\n",
    "#     prediction = np.pad(prediction, 20, 'constant', constant_values=False)\n",
    "\n",
    "#     #unflip\n",
    "#     if x_flip == True:\n",
    "#         print('flipping lr')\n",
    "#         prediction = np.fliplr(prediction)\n",
    "#     if y_flip == True:\n",
    "#         print('flipping ud')\n",
    "#         prediction = np.flipud(prediction)\n",
    "    \n",
    "#     #uncrop\n",
    "#     prediction = pad_array(prediction, uberPrediction, x_offset, y_offset)\n",
    "\n",
    "#     uberPrediction = np.maximum(uberPrediction, prediction)\n",
    "\n",
    "# # no theory\n",
    "# oneshot_prediction = testNet.predict(\"./unet_trained/model.ckpt\", data_test)\n",
    "# oneshot_prediction = oneshot_prediction[0,...,1] > 0.5\n",
    "# oneshot_prediction = np.pad(oneshot_prediction, 20, 'constant', constant_values=False)\n",
    "\n",
    "\n",
    "# fig, ax = plt.subplots(1,4, sharex=True, sharey=True, figsize=(16,4))\n",
    "# ax[0].imshow(data_test[0,...,0], aspect=\"auto\")\n",
    "# ax[1].imshow(labels_test[0,...,1], aspect=\"auto\")\n",
    "# ax[2].imshow(uberPrediction, aspect=\"auto\")\n",
    "# ax[3].imshow(oneshot_prediction, aspect=\"auto\")\n",
    "\n"
   ]
  },
  {
   "cell_type": "code",
   "execution_count": null,
   "metadata": {},
   "outputs": [],
   "source": []
  }
 ],
 "metadata": {
  "kernelspec": {
   "display_name": "venv2",
   "language": "python",
   "name": "venv2"
  },
  "language_info": {
   "codemirror_mode": {
    "name": "ipython",
    "version": 3
   },
   "file_extension": ".py",
   "mimetype": "text/x-python",
   "name": "python",
   "nbconvert_exporter": "python",
   "pygments_lexer": "ipython3",
   "version": "3.7.4"
  }
 },
 "nbformat": 4,
 "nbformat_minor": 2
}
